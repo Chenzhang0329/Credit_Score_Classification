{
  "nbformat": 4,
  "nbformat_minor": 0,
  "metadata": {
    "colab": {
      "provenance": [],
      "include_colab_link": true
    },
    "kernelspec": {
      "name": "python3",
      "display_name": "Python 3"
    },
    "language_info": {
      "name": "python"
    }
  },
  "cells": [
    {
      "cell_type": "markdown",
      "metadata": {
        "id": "view-in-github",
        "colab_type": "text"
      },
      "source": [
        "<a href=\"https://colab.research.google.com/github/Chenzhang0329/Credit_Score_Classification/blob/main/6100_final_project.ipynb\" target=\"_parent\"><img src=\"https://colab.research.google.com/assets/colab-badge.svg\" alt=\"Open In Colab\"/></a>"
      ]
    },
    {
      "cell_type": "markdown",
      "source": [
        "# Executive summary"
      ],
      "metadata": {
        "id": "Ah-M77ItYJcO"
      }
    },
    {
      "cell_type": "markdown",
      "source": [
        "This study is using a banking dataset posted on Kaggle.\n",
        "It contains 100,000 customers, with 27 different variables that hold the customer information. Based on these information, the financial institutions would like to make their credit report and determine an individual's credit score to make further decisions such as granting loans to the person or deciding the interest rate on the loans. Our goal will be to use these information to build machine\n",
        "learning models that can classify the credit scores of the customers.\n",
        "\n",
        "The original Kaggle dataset consists training data that spans from January to August, and test data from September to December. Since Kaggle does not provide solutions or any results for the test data, we split the training set so the January to July data is our new training set, and the August data is our validation set. We also added new variables from *Type_of_Loan* and *Payment_Behaviour*, cleaned the corrupted data, and removed variables that are redundant or not needed for training purposes.\n",
        "\n",
        "\n",
        "After cleaning the data, three different models are trained. The validation accuracy for each was:\n",
        "\n",
        "* Linear Regression: 59%\n",
        "* Decision Tree: 68%\n",
        "* Random Forest: 73%"
      ],
      "metadata": {
        "id": "KCmfWmTR0kxB"
      }
    },
    {
      "cell_type": "markdown",
      "source": [
        "# Ethics"
      ],
      "metadata": {
        "id": "E1DBq3jqYPOy"
      }
    },
    {
      "cell_type": "markdown",
      "source": [
        "There are a few ethical isses regarding this project. There may be added bias for our results, in particular related to how the corrupted values are treated. For instance, we filled the occupation and monthly salaries of the customers based on the other entries of the same customer. It is possible they changed their job and had a different monthly salary but was not recorded, leading to some bias for the data.\n",
        "\n",
        "This dataset includes many of the clients' personal credit-related details, such as their names, homes, annual income, and so on. The release of personal information should require clients' consent, assuming they are real. Without their consent (of using their data for this task), the bank should not have released this dataset to us, as there are huge privacy concerns that may affect the individuals. A person with someone else's SSN, name and many other basic information can easily disguise as that other person and potentially take money from their bank or use their information for other purchases, essentially stealing money."
      ],
      "metadata": {
        "id": "qtFEDcy5T313"
      }
    },
    {
      "cell_type": "markdown",
      "source": [
        "# Importing libraries and data"
      ],
      "metadata": {
        "id": "V0kUq1vqYZb7"
      }
    },
    {
      "cell_type": "code",
      "source": [
        "###\n",
        "# Upload and unzip data (\"CreditScore.zip\")\n",
        "###\n",
        "\n",
        "from google.colab import files\n",
        "from zipfile import ZipFile\n",
        "\n",
        "uploaded = files.upload()\n",
        "with ZipFile('CreditScore.zip') as z:\n",
        "    z.extractall()"
      ],
      "metadata": {
        "colab": {
          "base_uri": "https://localhost:8080/"
        },
        "id": "UQWLT_h9yX7W",
        "outputId": "2f2b8ebd-4ce9-497d-dc3e-6a27380baaca"
      },
      "execution_count": null,
      "outputs": [
        {
          "output_type": "stream",
          "name": "stdout",
          "text": [
            "Mounted at /content/drive\n"
          ]
        }
      ]
    },
    {
      "cell_type": "code",
      "source": [
        "# importing libraries\n",
        "import math\n",
        "import pandas as pd\n",
        "import numpy as np\n",
        "\n",
        "# Globally set the printing option \n",
        "pd.set_option('display.max_columns', None)\n",
        "\n",
        "from sklearn.tree import DecisionTreeClassifier\n",
        "from sklearn.model_selection import cross_val_score\n",
        "import matplotlib.pyplot as plt\n",
        "from sklearn import metrics, tree\n",
        "import seaborn as sns\n",
        "from sklearn.ensemble import RandomForestClassifier\n",
        "from sklearn.metrics import confusion_matrix\n",
        "from sklearn.metrics import accuracy_score, precision_score, recall_score, f1_score\n",
        "from sklearn.metrics import classification_report\n",
        "from sklearn.linear_model import LinearRegression"
      ],
      "metadata": {
        "id": "deCRlRUsYcCU"
      },
      "execution_count": null,
      "outputs": []
    },
    {
      "cell_type": "code",
      "source": [
        "# importing data\n",
        "train_data = pd.read_csv('/content/CreditScore/train.csv')\n",
        "test_data = pd.read_csv('/content/CreditScore/test.csv')\n",
        "\n",
        "train_data.head()"
      ],
      "metadata": {
        "colab": {
          "base_uri": "https://localhost:8080/",
          "height": 557
        },
        "id": "uO1zf3PFYj6g",
        "outputId": "04760f84-0a35-4a52-f847-4e581a823a29"
      },
      "execution_count": null,
      "outputs": [
        {
          "output_type": "stream",
          "name": "stderr",
          "text": [
            "/usr/local/lib/python3.8/dist-packages/IPython/core/interactiveshell.py:3326: DtypeWarning: Columns (26) have mixed types.Specify dtype option on import or set low_memory=False.\n",
            "  exec(code_obj, self.user_global_ns, self.user_ns)\n"
          ]
        },
        {
          "output_type": "execute_result",
          "data": {
            "text/plain": [
              "       ID Customer_ID     Month           Name   Age          SSN Occupation  \\\n",
              "0  0x1602   CUS_0xd40   January  Aaron Maashoh    23  821-00-0265  Scientist   \n",
              "1  0x1603   CUS_0xd40  February  Aaron Maashoh    23  821-00-0265  Scientist   \n",
              "2  0x1604   CUS_0xd40     March  Aaron Maashoh  -500  821-00-0265  Scientist   \n",
              "3  0x1605   CUS_0xd40     April  Aaron Maashoh    23  821-00-0265  Scientist   \n",
              "4  0x1606   CUS_0xd40       May  Aaron Maashoh    23  821-00-0265  Scientist   \n",
              "\n",
              "  Annual_Income  Monthly_Inhand_Salary  Num_Bank_Accounts  Num_Credit_Card  \\\n",
              "0      19114.12            1824.843333                  3                4   \n",
              "1      19114.12                    NaN                  3                4   \n",
              "2      19114.12                    NaN                  3                4   \n",
              "3      19114.12                    NaN                  3                4   \n",
              "4      19114.12            1824.843333                  3                4   \n",
              "\n",
              "   Interest_Rate Num_of_Loan  \\\n",
              "0              3           4   \n",
              "1              3           4   \n",
              "2              3           4   \n",
              "3              3           4   \n",
              "4              3           4   \n",
              "\n",
              "                                        Type_of_Loan  Delay_from_due_date  \\\n",
              "0  Auto Loan, Credit-Builder Loan, Personal Loan,...                    3   \n",
              "1  Auto Loan, Credit-Builder Loan, Personal Loan,...                   -1   \n",
              "2  Auto Loan, Credit-Builder Loan, Personal Loan,...                    3   \n",
              "3  Auto Loan, Credit-Builder Loan, Personal Loan,...                    5   \n",
              "4  Auto Loan, Credit-Builder Loan, Personal Loan,...                    6   \n",
              "\n",
              "  Num_of_Delayed_Payment Changed_Credit_Limit  Num_Credit_Inquiries  \\\n",
              "0                      7                11.27                   4.0   \n",
              "1                    NaN                11.27                   4.0   \n",
              "2                      7                    _                   4.0   \n",
              "3                      4                 6.27                   4.0   \n",
              "4                    NaN                11.27                   4.0   \n",
              "\n",
              "  Credit_Mix Outstanding_Debt  Credit_Utilization_Ratio  \\\n",
              "0          _           809.98                 26.822620   \n",
              "1       Good           809.98                 31.944960   \n",
              "2       Good           809.98                 28.609352   \n",
              "3       Good           809.98                 31.377862   \n",
              "4       Good           809.98                 24.797347   \n",
              "\n",
              "      Credit_History_Age Payment_of_Min_Amount  Total_EMI_per_month  \\\n",
              "0  22 Years and 1 Months                    No            49.574949   \n",
              "1                    NaN                    No            49.574949   \n",
              "2  22 Years and 3 Months                    No            49.574949   \n",
              "3  22 Years and 4 Months                    No            49.574949   \n",
              "4  22 Years and 5 Months                    No            49.574949   \n",
              "\n",
              "  Amount_invested_monthly                 Payment_Behaviour  \\\n",
              "0       80.41529543900253   High_spent_Small_value_payments   \n",
              "1      118.28022162236736    Low_spent_Large_value_payments   \n",
              "2         81.699521264648   Low_spent_Medium_value_payments   \n",
              "3       199.4580743910713    Low_spent_Small_value_payments   \n",
              "4      41.420153086217326  High_spent_Medium_value_payments   \n",
              "\n",
              "      Monthly_Balance Credit_Score  \n",
              "0  312.49408867943663         Good  \n",
              "1  284.62916249607184         Good  \n",
              "2   331.2098628537912         Good  \n",
              "3  223.45130972736786         Good  \n",
              "4  341.48923103222177         Good  "
            ],
            "text/html": [
              "\n",
              "  <div id=\"df-2337feb6-278e-4a8d-a6c2-13b4ecd2f7f1\">\n",
              "    <div class=\"colab-df-container\">\n",
              "      <div>\n",
              "<style scoped>\n",
              "    .dataframe tbody tr th:only-of-type {\n",
              "        vertical-align: middle;\n",
              "    }\n",
              "\n",
              "    .dataframe tbody tr th {\n",
              "        vertical-align: top;\n",
              "    }\n",
              "\n",
              "    .dataframe thead th {\n",
              "        text-align: right;\n",
              "    }\n",
              "</style>\n",
              "<table border=\"1\" class=\"dataframe\">\n",
              "  <thead>\n",
              "    <tr style=\"text-align: right;\">\n",
              "      <th></th>\n",
              "      <th>ID</th>\n",
              "      <th>Customer_ID</th>\n",
              "      <th>Month</th>\n",
              "      <th>Name</th>\n",
              "      <th>Age</th>\n",
              "      <th>SSN</th>\n",
              "      <th>Occupation</th>\n",
              "      <th>Annual_Income</th>\n",
              "      <th>Monthly_Inhand_Salary</th>\n",
              "      <th>Num_Bank_Accounts</th>\n",
              "      <th>Num_Credit_Card</th>\n",
              "      <th>Interest_Rate</th>\n",
              "      <th>Num_of_Loan</th>\n",
              "      <th>Type_of_Loan</th>\n",
              "      <th>Delay_from_due_date</th>\n",
              "      <th>Num_of_Delayed_Payment</th>\n",
              "      <th>Changed_Credit_Limit</th>\n",
              "      <th>Num_Credit_Inquiries</th>\n",
              "      <th>Credit_Mix</th>\n",
              "      <th>Outstanding_Debt</th>\n",
              "      <th>Credit_Utilization_Ratio</th>\n",
              "      <th>Credit_History_Age</th>\n",
              "      <th>Payment_of_Min_Amount</th>\n",
              "      <th>Total_EMI_per_month</th>\n",
              "      <th>Amount_invested_monthly</th>\n",
              "      <th>Payment_Behaviour</th>\n",
              "      <th>Monthly_Balance</th>\n",
              "      <th>Credit_Score</th>\n",
              "    </tr>\n",
              "  </thead>\n",
              "  <tbody>\n",
              "    <tr>\n",
              "      <th>0</th>\n",
              "      <td>0x1602</td>\n",
              "      <td>CUS_0xd40</td>\n",
              "      <td>January</td>\n",
              "      <td>Aaron Maashoh</td>\n",
              "      <td>23</td>\n",
              "      <td>821-00-0265</td>\n",
              "      <td>Scientist</td>\n",
              "      <td>19114.12</td>\n",
              "      <td>1824.843333</td>\n",
              "      <td>3</td>\n",
              "      <td>4</td>\n",
              "      <td>3</td>\n",
              "      <td>4</td>\n",
              "      <td>Auto Loan, Credit-Builder Loan, Personal Loan,...</td>\n",
              "      <td>3</td>\n",
              "      <td>7</td>\n",
              "      <td>11.27</td>\n",
              "      <td>4.0</td>\n",
              "      <td>_</td>\n",
              "      <td>809.98</td>\n",
              "      <td>26.822620</td>\n",
              "      <td>22 Years and 1 Months</td>\n",
              "      <td>No</td>\n",
              "      <td>49.574949</td>\n",
              "      <td>80.41529543900253</td>\n",
              "      <td>High_spent_Small_value_payments</td>\n",
              "      <td>312.49408867943663</td>\n",
              "      <td>Good</td>\n",
              "    </tr>\n",
              "    <tr>\n",
              "      <th>1</th>\n",
              "      <td>0x1603</td>\n",
              "      <td>CUS_0xd40</td>\n",
              "      <td>February</td>\n",
              "      <td>Aaron Maashoh</td>\n",
              "      <td>23</td>\n",
              "      <td>821-00-0265</td>\n",
              "      <td>Scientist</td>\n",
              "      <td>19114.12</td>\n",
              "      <td>NaN</td>\n",
              "      <td>3</td>\n",
              "      <td>4</td>\n",
              "      <td>3</td>\n",
              "      <td>4</td>\n",
              "      <td>Auto Loan, Credit-Builder Loan, Personal Loan,...</td>\n",
              "      <td>-1</td>\n",
              "      <td>NaN</td>\n",
              "      <td>11.27</td>\n",
              "      <td>4.0</td>\n",
              "      <td>Good</td>\n",
              "      <td>809.98</td>\n",
              "      <td>31.944960</td>\n",
              "      <td>NaN</td>\n",
              "      <td>No</td>\n",
              "      <td>49.574949</td>\n",
              "      <td>118.28022162236736</td>\n",
              "      <td>Low_spent_Large_value_payments</td>\n",
              "      <td>284.62916249607184</td>\n",
              "      <td>Good</td>\n",
              "    </tr>\n",
              "    <tr>\n",
              "      <th>2</th>\n",
              "      <td>0x1604</td>\n",
              "      <td>CUS_0xd40</td>\n",
              "      <td>March</td>\n",
              "      <td>Aaron Maashoh</td>\n",
              "      <td>-500</td>\n",
              "      <td>821-00-0265</td>\n",
              "      <td>Scientist</td>\n",
              "      <td>19114.12</td>\n",
              "      <td>NaN</td>\n",
              "      <td>3</td>\n",
              "      <td>4</td>\n",
              "      <td>3</td>\n",
              "      <td>4</td>\n",
              "      <td>Auto Loan, Credit-Builder Loan, Personal Loan,...</td>\n",
              "      <td>3</td>\n",
              "      <td>7</td>\n",
              "      <td>_</td>\n",
              "      <td>4.0</td>\n",
              "      <td>Good</td>\n",
              "      <td>809.98</td>\n",
              "      <td>28.609352</td>\n",
              "      <td>22 Years and 3 Months</td>\n",
              "      <td>No</td>\n",
              "      <td>49.574949</td>\n",
              "      <td>81.699521264648</td>\n",
              "      <td>Low_spent_Medium_value_payments</td>\n",
              "      <td>331.2098628537912</td>\n",
              "      <td>Good</td>\n",
              "    </tr>\n",
              "    <tr>\n",
              "      <th>3</th>\n",
              "      <td>0x1605</td>\n",
              "      <td>CUS_0xd40</td>\n",
              "      <td>April</td>\n",
              "      <td>Aaron Maashoh</td>\n",
              "      <td>23</td>\n",
              "      <td>821-00-0265</td>\n",
              "      <td>Scientist</td>\n",
              "      <td>19114.12</td>\n",
              "      <td>NaN</td>\n",
              "      <td>3</td>\n",
              "      <td>4</td>\n",
              "      <td>3</td>\n",
              "      <td>4</td>\n",
              "      <td>Auto Loan, Credit-Builder Loan, Personal Loan,...</td>\n",
              "      <td>5</td>\n",
              "      <td>4</td>\n",
              "      <td>6.27</td>\n",
              "      <td>4.0</td>\n",
              "      <td>Good</td>\n",
              "      <td>809.98</td>\n",
              "      <td>31.377862</td>\n",
              "      <td>22 Years and 4 Months</td>\n",
              "      <td>No</td>\n",
              "      <td>49.574949</td>\n",
              "      <td>199.4580743910713</td>\n",
              "      <td>Low_spent_Small_value_payments</td>\n",
              "      <td>223.45130972736786</td>\n",
              "      <td>Good</td>\n",
              "    </tr>\n",
              "    <tr>\n",
              "      <th>4</th>\n",
              "      <td>0x1606</td>\n",
              "      <td>CUS_0xd40</td>\n",
              "      <td>May</td>\n",
              "      <td>Aaron Maashoh</td>\n",
              "      <td>23</td>\n",
              "      <td>821-00-0265</td>\n",
              "      <td>Scientist</td>\n",
              "      <td>19114.12</td>\n",
              "      <td>1824.843333</td>\n",
              "      <td>3</td>\n",
              "      <td>4</td>\n",
              "      <td>3</td>\n",
              "      <td>4</td>\n",
              "      <td>Auto Loan, Credit-Builder Loan, Personal Loan,...</td>\n",
              "      <td>6</td>\n",
              "      <td>NaN</td>\n",
              "      <td>11.27</td>\n",
              "      <td>4.0</td>\n",
              "      <td>Good</td>\n",
              "      <td>809.98</td>\n",
              "      <td>24.797347</td>\n",
              "      <td>22 Years and 5 Months</td>\n",
              "      <td>No</td>\n",
              "      <td>49.574949</td>\n",
              "      <td>41.420153086217326</td>\n",
              "      <td>High_spent_Medium_value_payments</td>\n",
              "      <td>341.48923103222177</td>\n",
              "      <td>Good</td>\n",
              "    </tr>\n",
              "  </tbody>\n",
              "</table>\n",
              "</div>\n",
              "      <button class=\"colab-df-convert\" onclick=\"convertToInteractive('df-2337feb6-278e-4a8d-a6c2-13b4ecd2f7f1')\"\n",
              "              title=\"Convert this dataframe to an interactive table.\"\n",
              "              style=\"display:none;\">\n",
              "        \n",
              "  <svg xmlns=\"http://www.w3.org/2000/svg\" height=\"24px\"viewBox=\"0 0 24 24\"\n",
              "       width=\"24px\">\n",
              "    <path d=\"M0 0h24v24H0V0z\" fill=\"none\"/>\n",
              "    <path d=\"M18.56 5.44l.94 2.06.94-2.06 2.06-.94-2.06-.94-.94-2.06-.94 2.06-2.06.94zm-11 1L8.5 8.5l.94-2.06 2.06-.94-2.06-.94L8.5 2.5l-.94 2.06-2.06.94zm10 10l.94 2.06.94-2.06 2.06-.94-2.06-.94-.94-2.06-.94 2.06-2.06.94z\"/><path d=\"M17.41 7.96l-1.37-1.37c-.4-.4-.92-.59-1.43-.59-.52 0-1.04.2-1.43.59L10.3 9.45l-7.72 7.72c-.78.78-.78 2.05 0 2.83L4 21.41c.39.39.9.59 1.41.59.51 0 1.02-.2 1.41-.59l7.78-7.78 2.81-2.81c.8-.78.8-2.07 0-2.86zM5.41 20L4 18.59l7.72-7.72 1.47 1.35L5.41 20z\"/>\n",
              "  </svg>\n",
              "      </button>\n",
              "      \n",
              "  <style>\n",
              "    .colab-df-container {\n",
              "      display:flex;\n",
              "      flex-wrap:wrap;\n",
              "      gap: 12px;\n",
              "    }\n",
              "\n",
              "    .colab-df-convert {\n",
              "      background-color: #E8F0FE;\n",
              "      border: none;\n",
              "      border-radius: 50%;\n",
              "      cursor: pointer;\n",
              "      display: none;\n",
              "      fill: #1967D2;\n",
              "      height: 32px;\n",
              "      padding: 0 0 0 0;\n",
              "      width: 32px;\n",
              "    }\n",
              "\n",
              "    .colab-df-convert:hover {\n",
              "      background-color: #E2EBFA;\n",
              "      box-shadow: 0px 1px 2px rgba(60, 64, 67, 0.3), 0px 1px 3px 1px rgba(60, 64, 67, 0.15);\n",
              "      fill: #174EA6;\n",
              "    }\n",
              "\n",
              "    [theme=dark] .colab-df-convert {\n",
              "      background-color: #3B4455;\n",
              "      fill: #D2E3FC;\n",
              "    }\n",
              "\n",
              "    [theme=dark] .colab-df-convert:hover {\n",
              "      background-color: #434B5C;\n",
              "      box-shadow: 0px 1px 3px 1px rgba(0, 0, 0, 0.15);\n",
              "      filter: drop-shadow(0px 1px 2px rgba(0, 0, 0, 0.3));\n",
              "      fill: #FFFFFF;\n",
              "    }\n",
              "  </style>\n",
              "\n",
              "      <script>\n",
              "        const buttonEl =\n",
              "          document.querySelector('#df-2337feb6-278e-4a8d-a6c2-13b4ecd2f7f1 button.colab-df-convert');\n",
              "        buttonEl.style.display =\n",
              "          google.colab.kernel.accessAllowed ? 'block' : 'none';\n",
              "\n",
              "        async function convertToInteractive(key) {\n",
              "          const element = document.querySelector('#df-2337feb6-278e-4a8d-a6c2-13b4ecd2f7f1');\n",
              "          const dataTable =\n",
              "            await google.colab.kernel.invokeFunction('convertToInteractive',\n",
              "                                                     [key], {});\n",
              "          if (!dataTable) return;\n",
              "\n",
              "          const docLinkHtml = 'Like what you see? Visit the ' +\n",
              "            '<a target=\"_blank\" href=https://colab.research.google.com/notebooks/data_table.ipynb>data table notebook</a>'\n",
              "            + ' to learn more about interactive tables.';\n",
              "          element.innerHTML = '';\n",
              "          dataTable['output_type'] = 'display_data';\n",
              "          await google.colab.output.renderOutput(dataTable, element);\n",
              "          const docLink = document.createElement('div');\n",
              "          docLink.innerHTML = docLinkHtml;\n",
              "          element.appendChild(docLink);\n",
              "        }\n",
              "      </script>\n",
              "    </div>\n",
              "  </div>\n",
              "  "
            ]
          },
          "metadata": {},
          "execution_count": 3
        }
      ]
    },
    {
      "cell_type": "markdown",
      "source": [
        "# Data Cleaning\n",
        "\n",
        "Data cleaning is done before any models are fit to the dataset. Kaggle provides the descriptions for this dataset, and based on the descriptions the following actions are done:\n",
        "\n",
        "\n",
        "*   Converted variables into numbers if they fall into the following categories:\n",
        "\n",
        "\n",
        ">> Originally was string (eg. *Age*, *Annual_Income*)\n",
        "\n",
        ">> The values resemble some ordering (eg. *Month*)\n",
        "\n",
        "\n",
        "*   Separated *Type_of_Loan* and *Payment_Behaviour* into different categories\n",
        "*   One-hot encode dummy variables for categorical variables\n",
        "*   Corrupt data: many data in this dataset is corrupt, including NA values and invalid values like \"\\_\\_-500\\_\\_\" for *Age*. Some ways we dealt with them are:\n",
        "\n",
        ">> Filled with appropriate values\n",
        "\n",
        ">> If an information entry was available for all but one place (e.g. age available for the same person except for one entry), use the previous entries\n",
        "\n",
        "*   The variable *Month* is used to separate the training set into a train/validation set, as Kaggle does not provide the \"answers\" for the test set\n",
        "*   *Customer_ID*, *Name*, *SSN*, *Type_of_Loan*, *Payment_Behaviour* are removed for training purposes\n"
      ],
      "metadata": {
        "id": "iUqP3f9bYTWj"
      }
    },
    {
      "cell_type": "code",
      "source": [
        "#### Modify train and test data\n",
        "\n",
        "# Transported is the value we want to predict\n",
        "Credit_Score = train_data['Credit_Score']\n",
        "\n",
        "# for data transformation\n",
        "\n",
        "# Combine train and test\n",
        "temp = [train_data, test_data]\n",
        "# Remove Transported from train data to combine with test data\n",
        "full_data = pd.concat(temp, keys=['train', 'test']).drop('Credit_Score', axis=1)"
      ],
      "metadata": {
        "id": "79wDVprJvUtP"
      },
      "execution_count": null,
      "outputs": []
    },
    {
      "cell_type": "markdown",
      "source": [
        "## Convert into numerical values"
      ],
      "metadata": {
        "id": "oFusJWgy8-1-"
      }
    },
    {
      "cell_type": "code",
      "source": [
        "# string to number (function)\n",
        "def str_to_num(data):\n",
        "  return pd.to_numeric(data.apply(lambda x: x.replace('_', '') if type(x) == str and '_' in x else x))\n",
        "\n",
        "def new_column(data, prim_key, to_change, min_bound, max_bound):\n",
        "  valid_vals = {}\n",
        "  new_col = []\n",
        "  #data[to_change] = pd.to_numeric(data[to_change])\n",
        "\n",
        "  for x,y in zip(data[prim_key], data[to_change]):\n",
        "    if x not in valid_vals:\n",
        "      valid_vals[x] = []\n",
        "    if not pd.isnull(y):\n",
        "      if y not in valid_vals[x] and y >= min_bound and y <= max_bound:\n",
        "        valid_vals[x].append(y)\n",
        "  \n",
        "  for x,y in zip(data[prim_key], data[to_change]):\n",
        "    if y in valid_vals[x]:\n",
        "      new_col.append(y)\n",
        "    else:\n",
        "      new_col.append(valid_vals[x][0])\n",
        "  \n",
        "  return valid_vals, new_col"
      ],
      "metadata": {
        "id": "EkN_1rI06NGU"
      },
      "execution_count": null,
      "outputs": []
    },
    {
      "cell_type": "code",
      "source": [
        "### string to number\n",
        "full_data = pd.concat(temp, keys=['train', 'test']).drop('Credit_Score', axis=1)\n",
        "# Age\n",
        "full_data['Age'] = str_to_num(full_data['Age'])\n",
        "_, full_data['Age'] = new_column(full_data, 'Customer_ID', 'Age', 0, 150)\n",
        "\n",
        "# Annual_Income\n",
        "full_data['Annual_Income'] = str_to_num(full_data['Annual_Income'])\n",
        "\n",
        "# Num_of_Loan\n",
        "#TODO: change after Type_of_Loan is converted\n",
        "\n",
        "# Num_of_Delayed_Payment\n",
        "full_data['Num_of_Delayed_Payment'] = str_to_num(full_data['Num_of_Delayed_Payment'])\n",
        "_, full_data['Num_of_Delayed_Payment'] = new_column(full_data, 'Customer_ID', 'Num_of_Delayed_Payment', \n",
        "                                                    full_data['Num_of_Delayed_Payment'].min(), \n",
        "                                                    full_data['Num_of_Delayed_Payment'].max())\n",
        "\n",
        "# Changed_Credit_Limit\n",
        "full_data['Changed_Credit_Limit'] = str_to_num(full_data['Changed_Credit_Limit'])\n",
        "_, full_data['Changed_Credit_Limit'] = new_column(full_data, 'Customer_ID', 'Changed_Credit_Limit', \n",
        "                                                   full_data['Changed_Credit_Limit'].min(), \n",
        "                                                   full_data['Changed_Credit_Limit'].max())\n",
        "\n",
        "# Outstanding_Debt\n",
        "full_data['Outstanding_Debt'] = str_to_num(full_data['Outstanding_Debt'])\n",
        "\n",
        "# Credit_History_Age\n",
        "\n",
        "\n",
        "# Amount_invested_monthly\n",
        "full_data['Amount_invested_monthly'] = full_data['Amount_invested_monthly'].apply(lambda x: \"0\" if x == \"__10000__\" else x)\n",
        "full_data['Amount_invested_monthly'] = str_to_num(full_data['Amount_invested_monthly'])\n",
        "full_data['Amount_invested_monthly'].fillna(0, inplace=True)"
      ],
      "metadata": {
        "id": "AFQlvleH2QxB"
      },
      "execution_count": null,
      "outputs": []
    },
    {
      "cell_type": "code",
      "source": [
        "# rankings to numerical\n",
        "convert_dict = {'Month': {'January': 1, 'February': 2, 'March': 3, 'April': 4, \n",
        "                          'May': 5, 'June': 6, 'July': 7, 'August': 8, \n",
        "                          'September': 9, 'October': 10, 'November': 11, 'December': 12},\n",
        "                'Credit_Mix': {'Bad': -1, 'Standard': 0, 'Good': 1, '_':0},\n",
        "                'Payment_of_Min_Amount': {'No': 0, 'NM': 0, 'Yes': 1}}\n",
        "\n",
        "for var, conversion in convert_dict.items():\n",
        "  for old_val, new_val in conversion.items():\n",
        "    full_data.loc[full_data[var] == old_val, var] = new_val"
      ],
      "metadata": {
        "id": "0xquA6EOVtaR"
      },
      "execution_count": null,
      "outputs": []
    },
    {
      "cell_type": "markdown",
      "source": [
        "## Create new variables from Type_of_Loan and Payment_Behaviour"
      ],
      "metadata": {
        "id": "45mpSwGsjrsO"
      }
    },
    {
      "cell_type": "markdown",
      "source": [
        "### Type_of_Loan"
      ],
      "metadata": {
        "id": "QpeCghJk3znJ"
      }
    },
    {
      "cell_type": "markdown",
      "source": [
        "There are some missing values in *Type_of_Loan*, and we want to fill those missing values first. For this variable, the missing values means \"No Loan\" instead of \"Not specified\". We created a new type \"No Loan\" to fill those missing values."
      ],
      "metadata": {
        "id": "y77W1N1p3lL-"
      }
    },
    {
      "cell_type": "code",
      "source": [
        "## Filling all the missing value for \"Type_of_Loan\" as \"No Loan\"\n",
        "full_data[\"Type_of_Loan\"] = full_data[\"Type_of_Loan\"].fillna(\"No Loan\")"
      ],
      "metadata": {
        "id": "FBqaK8NajzGH"
      },
      "execution_count": null,
      "outputs": []
    },
    {
      "cell_type": "markdown",
      "source": [
        "After filling all the missing values for *Type_of_Loan*, we noticed that *Num_of_Loan* has some values that don't make much sense. Some of them have 967 loans, and some of them have -100 loans. We will fix this column based on the *Type_of_Loan*."
      ],
      "metadata": {
        "id": "VouTkQV73mFv"
      }
    },
    {
      "cell_type": "code",
      "source": [
        "# Fix the \"Num_of_Loan\" based on the \"Type_of_Loan\"\n",
        "full_data['Num_of_Loan'] = full_data.Type_of_Loan.str.split(', ').map(lambda x: len(x))\n",
        "full_data.loc[full_data.Type_of_Loan == \"No Loan\",'Num_of_Loan'] = 0\n",
        "full_data.loc[full_data.Type_of_Loan == \"Not Specified\",'Num_of_Loan'] = 1"
      ],
      "metadata": {
        "id": "KUffwerM3qvG"
      },
      "execution_count": null,
      "outputs": []
    },
    {
      "cell_type": "markdown",
      "source": [
        "We can see there are only 10 different types of loans in the dataset, so we will create 10 new bernoulli variables with 0 and 1 based on the *Type_of_Loan*."
      ],
      "metadata": {
        "id": "MWs9WXSt3ssw"
      }
    },
    {
      "cell_type": "code",
      "source": [
        "# Create a list for all the Type of Loan\n",
        "full_data['Type_of_Loan'] = full_data.Type_of_Loan.str.replace(\" \", \"\").str.replace(\"and\", \"\")\n",
        "Loan_type_lst = []\n",
        "for item in list(full_data.Type_of_Loan.str.split(',')):\n",
        "  for element in item:\n",
        "    if element not in Loan_type_lst:\n",
        "      Loan_type_lst.append(element)\n",
        "\n",
        "print(Loan_type_lst)\n"
      ],
      "metadata": {
        "id": "boxHRVdU3ueA",
        "outputId": "640486ce-61ac-4c8f-e759-ccd1a706cbdb",
        "colab": {
          "base_uri": "https://localhost:8080/"
        }
      },
      "execution_count": null,
      "outputs": [
        {
          "output_type": "stream",
          "name": "stdout",
          "text": [
            "['AutoLoan', 'Credit-BuilderLoan', 'PersonalLoan', 'HomeEquityLoan', 'NotSpecified', 'NoLoan', 'MortgageLoan', 'StudentLoan', 'DebtConsolidationLoan', 'PaydayLoan']\n"
          ]
        }
      ]
    },
    {
      "cell_type": "code",
      "source": [
        "# create 1/0 variables for each type\n",
        "for item in Loan_type_lst:\n",
        "  full_data[item] = full_data.Type_of_Loan.str.replace(\" \", \"\").replace(\"and\", \"\").str.split(',').map(lambda x: 1 if item in x else 0)"
      ],
      "metadata": {
        "id": "nfZhR6lF3xEf"
      },
      "execution_count": null,
      "outputs": []
    },
    {
      "cell_type": "markdown",
      "source": [
        "### Payment_Behaviour"
      ],
      "metadata": {
        "id": "0tFJYXxc32eP"
      }
    },
    {
      "cell_type": "code",
      "source": [
        "# create new variable from payment_behaviour\n",
        "full_data['Payment_Behaviour'] = full_data['Payment_Behaviour'].replace('!@9#%8', \"None\")\n",
        "\n",
        "full_data['Spend_Behaviour'] = full_data.Payment_Behaviour.str.split('_').map(lambda x: x[0] if len(x) > 1 else \"None\")\n",
        "full_data['Value_Behaviour'] = full_data.Payment_Behaviour.str.split('_').map(lambda x: x[2] if len(x) > 1 else \"None\")"
      ],
      "metadata": {
        "id": "9p-ePeOo3W4P"
      },
      "execution_count": null,
      "outputs": []
    },
    {
      "cell_type": "markdown",
      "source": [
        "## Fixing other corrupt data"
      ],
      "metadata": {
        "id": "TaCVSIYrOtw4"
      }
    },
    {
      "cell_type": "markdown",
      "source": [
        "### Fixed the 'Monthly_Balance' column"
      ],
      "metadata": {
        "id": "EO6kgBOs08zZ"
      }
    },
    {
      "cell_type": "code",
      "source": [
        "# fix monthly_balance\n",
        "full_data['Monthly_Balance'] = full_data['Monthly_Balance'].replace('__-333333333333333333333333333__', 0)\n",
        "full_data['Monthly_Balance'] = full_data['Monthly_Balance'].fillna(0)"
      ],
      "metadata": {
        "id": "_fsxaNvq1DOB"
      },
      "execution_count": null,
      "outputs": []
    },
    {
      "cell_type": "markdown",
      "source": [
        "### Fixed the 'Occupation' column"
      ],
      "metadata": {
        "id": "jJ8UQ7Zu5dzw"
      }
    },
    {
      "cell_type": "code",
      "source": [
        "# fix occupation\n",
        "df = full_data[full_data['Occupation'] != '_______']\n",
        "occup_dict = pd.Series(df.Occupation.values,index=df.Customer_ID).to_dict()\n",
        "full_data['Occupation'] = full_data.Customer_ID.map(occup_dict)"
      ],
      "metadata": {
        "id": "BYy4MPyv6UJY"
      },
      "execution_count": null,
      "outputs": []
    },
    {
      "cell_type": "markdown",
      "source": [
        "### Fixed the 'Monthly_Inhand_Salary' and 'Num_Credit_Inquiries' columns"
      ],
      "metadata": {
        "id": "cMmiY2vVBZSh"
      }
    },
    {
      "cell_type": "code",
      "source": [
        "# fix monthly_inhand_salary, num_credit_inquiries\n",
        "fill_lst = ['Monthly_Inhand_Salary', 'Num_Credit_Inquiries']\n",
        "for item in fill_lst:\n",
        "  df = full_data[full_data[item].notna()]\n",
        "  mis_dict = pd.Series(df.get(item).values,index=df.Customer_ID).to_dict()\n",
        "  #print(mis_dict)\n",
        "  full_data[item] = full_data.Customer_ID.map(mis_dict)"
      ],
      "metadata": {
        "id": "faBNO8dZBn62"
      },
      "execution_count": null,
      "outputs": []
    },
    {
      "cell_type": "markdown",
      "source": [
        "### Fixed the 'Num_Bank_Accounts', 'Num_Credit_Card' and 'Interest_Rate' columns"
      ],
      "metadata": {
        "id": "ZBDvaep5zv0D"
      }
    },
    {
      "cell_type": "code",
      "source": [
        "# fix num_bank_accounts, num_credit_card, interest_rate\n",
        "full_data['Num_Bank_Accounts'] = full_data['Num_Bank_Accounts'].apply(lambda x: 0 if x < 0 else x)\n",
        "\n",
        "fill_lst2 = ['Num_Bank_Accounts', 'Num_Credit_Card', 'Interest_Rate']\n",
        "for item in fill_lst2:\n",
        "  if item == 'Interest_Rate':\n",
        "    df = full_data[full_data[item] < 35]\n",
        "    mis_dict = pd.Series(df.get(item).values,index=df.Customer_ID).to_dict()\n",
        "    #print(mis_dict)\n",
        "    full_data[item] = full_data.Customer_ID.map(mis_dict)\n",
        "  else:\n",
        "    df = full_data[full_data[item] < 20]\n",
        "    mis_dict = pd.Series(df.get(item).values,index=df.Customer_ID).to_dict()\n",
        "    #print(mis_dict)\n",
        "    full_data[item] = full_data.Customer_ID.map(mis_dict)\n",
        "\n",
        "df = full_data[full_data['Age'] < 100]\n",
        "mis_dict = pd.Series(df.Age.values,index=df.Customer_ID).to_dict()\n",
        "#print(mis_dict)\n",
        "full_data['Age'] = full_data.Customer_ID.map(mis_dict)"
      ],
      "metadata": {
        "id": "m9LBdFjC2QAN"
      },
      "execution_count": null,
      "outputs": []
    },
    {
      "cell_type": "markdown",
      "source": [
        "## One hot encode dummy variables for categorical variables"
      ],
      "metadata": {
        "id": "Pjk5rkii5xk3"
      }
    },
    {
      "cell_type": "code",
      "source": [
        "# Get a list for all numerical variables\n",
        "numeric_dtypes = ['int16', 'int32', 'int64', 'float16', 'float32', 'float64']         # Those are all possible types of numerical variables\n",
        "cate_lst = []                                                                         # Empty list for numerical variables\n",
        "for var in list(full_data.columns):\n",
        "    if full_data[var].dtype not in numeric_dtypes:\n",
        "      cate_lst.append(var)"
      ],
      "metadata": {
        "id": "SUmhMy_c7tlD"
      },
      "execution_count": null,
      "outputs": []
    },
    {
      "cell_type": "code",
      "execution_count": null,
      "metadata": {
        "id": "8-yGP8fVXoUK"
      },
      "outputs": [],
      "source": [
        "#one hot encode\n",
        "categorical_var = ['Occupation', 'Spend_Behaviour', 'Value_Behaviour']# 'Occupation', 'Spend_Behaviour', 'Value_Behaviour', 'Month'\n",
        "\n",
        "full_data = pd.get_dummies(full_data, columns=categorical_var, drop_first=True)"
      ]
    },
    {
      "cell_type": "markdown",
      "source": [
        "## Delete unneeded variables"
      ],
      "metadata": {
        "id": "PyXUq2CiUh9W"
      }
    },
    {
      "cell_type": "code",
      "source": [
        "# delete columns that are unneeded\n",
        "to_delete = ['Name', 'SSN', 'Type_of_Loan', 'Payment_Behaviour', 'Credit_History_Age', 'Customer_ID'] #'Customer_ID'\n",
        "full_data.drop(columns=to_delete, inplace=True)\n"
      ],
      "metadata": {
        "id": "zcujkR6saVkQ"
      },
      "execution_count": null,
      "outputs": []
    },
    {
      "cell_type": "markdown",
      "source": [
        "## Check Missing Value Rate\n"
      ],
      "metadata": {
        "id": "wKVeHSwS1yL9"
      }
    },
    {
      "cell_type": "code",
      "source": [
        "# Calculate the missing value rate\n",
        "new_dict = {}                                       # Create a empty dictionary to store the missing rate of all the features selected for now\n",
        "for var in full_data.columns:\n",
        "  missing_rate = full_data[var].isnull().sum() / len(full_data[var])   # Calculate the missing rate for each variable     \n",
        "  new_dict[var] = missing_rate"
      ],
      "metadata": {
        "id": "4Zm9jB8t111h"
      },
      "execution_count": null,
      "outputs": []
    },
    {
      "cell_type": "code",
      "source": [
        "# The following dataframe is going to show the missing rate of each variables in descending order\n",
        "miss = pd.Series(new_dict).to_frame(\"Missing Rate\")\n",
        "#miss.sort_values(by = \"Missing Rate\", ascending = False)\n",
        "print(\"There are\", sum(miss['Missing Rate']), \"NA values left\")"
      ],
      "metadata": {
        "id": "HHgLMzdd2Ya5",
        "colab": {
          "base_uri": "https://localhost:8080/"
        },
        "outputId": "4bc736a0-f1e7-436a-9085-d82e683adb86"
      },
      "execution_count": null,
      "outputs": [
        {
          "output_type": "stream",
          "name": "stdout",
          "text": [
            "There are 0.0 NA values left\n"
          ]
        }
      ]
    },
    {
      "cell_type": "code",
      "source": [
        "# this is here just in case some string_to_num conversions were missed\n",
        "string_to_numer = ['Credit_Mix', 'Payment_of_Min_Amount', 'Monthly_Balance']\n",
        "for item in string_to_numer:\n",
        "  full_data[item] = full_data[item].astype(float)"
      ],
      "metadata": {
        "id": "bQyiz4yIAMCv"
      },
      "execution_count": null,
      "outputs": []
    },
    {
      "cell_type": "markdown",
      "source": [
        "## Split back to train and test set"
      ],
      "metadata": {
        "id": "gzZAjPgT6D7C"
      }
    },
    {
      "cell_type": "code",
      "source": [
        "# split back to train and test\n",
        "train_data = full_data.loc['train']\n",
        "test_data = full_data.loc['test'] # this is our final test set for our results\n",
        "\n",
        "# drop ids in training data as it's not needed\n",
        "train_data = train_data.drop(columns=['ID'])\n",
        "test_ids = test_data['ID'] # keep for final prediction\n",
        "test_data = test_data.drop(columns=['ID'])\n",
        "\n"
      ],
      "metadata": {
        "id": "zo5gGjG3araE"
      },
      "execution_count": null,
      "outputs": []
    },
    {
      "cell_type": "code",
      "source": [
        "train_data['Credit_Score'] = Credit_Score"
      ],
      "metadata": {
        "id": "TLjh38Jj1Xlv"
      },
      "execution_count": null,
      "outputs": []
    },
    {
      "cell_type": "code",
      "source": [
        "train_data.to_csv('full_train_data.csv', index = False)"
      ],
      "metadata": {
        "id": "rG8kgl926sgW"
      },
      "execution_count": null,
      "outputs": []
    },
    {
      "cell_type": "code",
      "source": [
        "train_data.head()"
      ],
      "metadata": {
        "colab": {
          "base_uri": "https://localhost:8080/",
          "height": 285
        },
        "id": "Hzg0cw4BLsvg",
        "outputId": "1a2f15bf-dd70-4a36-c69a-3b47293aae80"
      },
      "execution_count": null,
      "outputs": [
        {
          "output_type": "execute_result",
          "data": {
            "text/plain": [
              "  Month  Age  Annual_Income  Monthly_Inhand_Salary  Num_Bank_Accounts  \\\n",
              "0     1   24       19114.12            1824.843333                  3   \n",
              "1     2   24       19114.12            1824.843333                  3   \n",
              "2     3   24       19114.12            1824.843333                  3   \n",
              "3     4   24       19114.12            1824.843333                  3   \n",
              "4     5   24       19114.12            1824.843333                  3   \n",
              "\n",
              "   Num_Credit_Card  Interest_Rate  Num_of_Loan  Delay_from_due_date  \\\n",
              "0                4              3            4                    3   \n",
              "1                4              3            4                   -1   \n",
              "2                4              3            4                    3   \n",
              "3                4              3            4                    5   \n",
              "4                4              3            4                    6   \n",
              "\n",
              "   Num_of_Delayed_Payment  Changed_Credit_Limit  Num_Credit_Inquiries  \\\n",
              "0                     7.0                 11.27                   4.0   \n",
              "1                     7.0                 11.27                   4.0   \n",
              "2                     7.0                 11.27                   4.0   \n",
              "3                     4.0                  6.27                   4.0   \n",
              "4                     7.0                 11.27                   4.0   \n",
              "\n",
              "   Credit_Mix  Outstanding_Debt  Credit_Utilization_Ratio  \\\n",
              "0         0.0            809.98                 26.822620   \n",
              "1         1.0            809.98                 31.944960   \n",
              "2         1.0            809.98                 28.609352   \n",
              "3         1.0            809.98                 31.377862   \n",
              "4         1.0            809.98                 24.797347   \n",
              "\n",
              "   Payment_of_Min_Amount  Total_EMI_per_month  Amount_invested_monthly  \\\n",
              "0                    0.0            49.574949                80.415295   \n",
              "1                    0.0            49.574949               118.280222   \n",
              "2                    0.0            49.574949                81.699521   \n",
              "3                    0.0            49.574949               199.458074   \n",
              "4                    0.0            49.574949                41.420153   \n",
              "\n",
              "   Monthly_Balance  AutoLoan  Credit-BuilderLoan  PersonalLoan  \\\n",
              "0       312.494089         1                   1             1   \n",
              "1       284.629162         1                   1             1   \n",
              "2       331.209863         1                   1             1   \n",
              "3       223.451310         1                   1             1   \n",
              "4       341.489231         1                   1             1   \n",
              "\n",
              "   HomeEquityLoan  NotSpecified  NoLoan  MortgageLoan  StudentLoan  \\\n",
              "0               1             0       0             0            0   \n",
              "1               1             0       0             0            0   \n",
              "2               1             0       0             0            0   \n",
              "3               1             0       0             0            0   \n",
              "4               1             0       0             0            0   \n",
              "\n",
              "   DebtConsolidationLoan  PaydayLoan  Occupation_Architect  \\\n",
              "0                      0           0                     0   \n",
              "1                      0           0                     0   \n",
              "2                      0           0                     0   \n",
              "3                      0           0                     0   \n",
              "4                      0           0                     0   \n",
              "\n",
              "   Occupation_Developer  Occupation_Doctor  Occupation_Engineer  \\\n",
              "0                     0                  0                    0   \n",
              "1                     0                  0                    0   \n",
              "2                     0                  0                    0   \n",
              "3                     0                  0                    0   \n",
              "4                     0                  0                    0   \n",
              "\n",
              "   Occupation_Entrepreneur  Occupation_Journalist  Occupation_Lawyer  \\\n",
              "0                        0                      0                  0   \n",
              "1                        0                      0                  0   \n",
              "2                        0                      0                  0   \n",
              "3                        0                      0                  0   \n",
              "4                        0                      0                  0   \n",
              "\n",
              "   Occupation_Manager  Occupation_Mechanic  Occupation_Media_Manager  \\\n",
              "0                   0                    0                         0   \n",
              "1                   0                    0                         0   \n",
              "2                   0                    0                         0   \n",
              "3                   0                    0                         0   \n",
              "4                   0                    0                         0   \n",
              "\n",
              "   Occupation_Musician  Occupation_Scientist  Occupation_Teacher  \\\n",
              "0                    0                     1                   0   \n",
              "1                    0                     1                   0   \n",
              "2                    0                     1                   0   \n",
              "3                    0                     1                   0   \n",
              "4                    0                     1                   0   \n",
              "\n",
              "   Occupation_Writer  Spend_Behaviour_Low  Spend_Behaviour_None  \\\n",
              "0                  0                    0                     0   \n",
              "1                  0                    1                     0   \n",
              "2                  0                    1                     0   \n",
              "3                  0                    1                     0   \n",
              "4                  0                    0                     0   \n",
              "\n",
              "   Value_Behaviour_Medium  Value_Behaviour_None  Value_Behaviour_Small  \\\n",
              "0                       0                     0                      1   \n",
              "1                       0                     0                      0   \n",
              "2                       1                     0                      0   \n",
              "3                       0                     0                      1   \n",
              "4                       1                     0                      0   \n",
              "\n",
              "  Credit_Score  \n",
              "0         Good  \n",
              "1         Good  \n",
              "2         Good  \n",
              "3         Good  \n",
              "4         Good  "
            ],
            "text/html": [
              "\n",
              "  <div id=\"df-34e275a4-160a-4c25-a986-7b31b1c37704\">\n",
              "    <div class=\"colab-df-container\">\n",
              "      <div>\n",
              "<style scoped>\n",
              "    .dataframe tbody tr th:only-of-type {\n",
              "        vertical-align: middle;\n",
              "    }\n",
              "\n",
              "    .dataframe tbody tr th {\n",
              "        vertical-align: top;\n",
              "    }\n",
              "\n",
              "    .dataframe thead th {\n",
              "        text-align: right;\n",
              "    }\n",
              "</style>\n",
              "<table border=\"1\" class=\"dataframe\">\n",
              "  <thead>\n",
              "    <tr style=\"text-align: right;\">\n",
              "      <th></th>\n",
              "      <th>Month</th>\n",
              "      <th>Age</th>\n",
              "      <th>Annual_Income</th>\n",
              "      <th>Monthly_Inhand_Salary</th>\n",
              "      <th>Num_Bank_Accounts</th>\n",
              "      <th>Num_Credit_Card</th>\n",
              "      <th>Interest_Rate</th>\n",
              "      <th>Num_of_Loan</th>\n",
              "      <th>Delay_from_due_date</th>\n",
              "      <th>Num_of_Delayed_Payment</th>\n",
              "      <th>Changed_Credit_Limit</th>\n",
              "      <th>Num_Credit_Inquiries</th>\n",
              "      <th>Credit_Mix</th>\n",
              "      <th>Outstanding_Debt</th>\n",
              "      <th>Credit_Utilization_Ratio</th>\n",
              "      <th>Payment_of_Min_Amount</th>\n",
              "      <th>Total_EMI_per_month</th>\n",
              "      <th>Amount_invested_monthly</th>\n",
              "      <th>Monthly_Balance</th>\n",
              "      <th>AutoLoan</th>\n",
              "      <th>Credit-BuilderLoan</th>\n",
              "      <th>PersonalLoan</th>\n",
              "      <th>HomeEquityLoan</th>\n",
              "      <th>NotSpecified</th>\n",
              "      <th>NoLoan</th>\n",
              "      <th>MortgageLoan</th>\n",
              "      <th>StudentLoan</th>\n",
              "      <th>DebtConsolidationLoan</th>\n",
              "      <th>PaydayLoan</th>\n",
              "      <th>Occupation_Architect</th>\n",
              "      <th>Occupation_Developer</th>\n",
              "      <th>Occupation_Doctor</th>\n",
              "      <th>Occupation_Engineer</th>\n",
              "      <th>Occupation_Entrepreneur</th>\n",
              "      <th>Occupation_Journalist</th>\n",
              "      <th>Occupation_Lawyer</th>\n",
              "      <th>Occupation_Manager</th>\n",
              "      <th>Occupation_Mechanic</th>\n",
              "      <th>Occupation_Media_Manager</th>\n",
              "      <th>Occupation_Musician</th>\n",
              "      <th>Occupation_Scientist</th>\n",
              "      <th>Occupation_Teacher</th>\n",
              "      <th>Occupation_Writer</th>\n",
              "      <th>Spend_Behaviour_Low</th>\n",
              "      <th>Spend_Behaviour_None</th>\n",
              "      <th>Value_Behaviour_Medium</th>\n",
              "      <th>Value_Behaviour_None</th>\n",
              "      <th>Value_Behaviour_Small</th>\n",
              "      <th>Credit_Score</th>\n",
              "    </tr>\n",
              "  </thead>\n",
              "  <tbody>\n",
              "    <tr>\n",
              "      <th>0</th>\n",
              "      <td>1</td>\n",
              "      <td>24</td>\n",
              "      <td>19114.12</td>\n",
              "      <td>1824.843333</td>\n",
              "      <td>3</td>\n",
              "      <td>4</td>\n",
              "      <td>3</td>\n",
              "      <td>4</td>\n",
              "      <td>3</td>\n",
              "      <td>7.0</td>\n",
              "      <td>11.27</td>\n",
              "      <td>4.0</td>\n",
              "      <td>0.0</td>\n",
              "      <td>809.98</td>\n",
              "      <td>26.822620</td>\n",
              "      <td>0.0</td>\n",
              "      <td>49.574949</td>\n",
              "      <td>80.415295</td>\n",
              "      <td>312.494089</td>\n",
              "      <td>1</td>\n",
              "      <td>1</td>\n",
              "      <td>1</td>\n",
              "      <td>1</td>\n",
              "      <td>0</td>\n",
              "      <td>0</td>\n",
              "      <td>0</td>\n",
              "      <td>0</td>\n",
              "      <td>0</td>\n",
              "      <td>0</td>\n",
              "      <td>0</td>\n",
              "      <td>0</td>\n",
              "      <td>0</td>\n",
              "      <td>0</td>\n",
              "      <td>0</td>\n",
              "      <td>0</td>\n",
              "      <td>0</td>\n",
              "      <td>0</td>\n",
              "      <td>0</td>\n",
              "      <td>0</td>\n",
              "      <td>0</td>\n",
              "      <td>1</td>\n",
              "      <td>0</td>\n",
              "      <td>0</td>\n",
              "      <td>0</td>\n",
              "      <td>0</td>\n",
              "      <td>0</td>\n",
              "      <td>0</td>\n",
              "      <td>1</td>\n",
              "      <td>Good</td>\n",
              "    </tr>\n",
              "    <tr>\n",
              "      <th>1</th>\n",
              "      <td>2</td>\n",
              "      <td>24</td>\n",
              "      <td>19114.12</td>\n",
              "      <td>1824.843333</td>\n",
              "      <td>3</td>\n",
              "      <td>4</td>\n",
              "      <td>3</td>\n",
              "      <td>4</td>\n",
              "      <td>-1</td>\n",
              "      <td>7.0</td>\n",
              "      <td>11.27</td>\n",
              "      <td>4.0</td>\n",
              "      <td>1.0</td>\n",
              "      <td>809.98</td>\n",
              "      <td>31.944960</td>\n",
              "      <td>0.0</td>\n",
              "      <td>49.574949</td>\n",
              "      <td>118.280222</td>\n",
              "      <td>284.629162</td>\n",
              "      <td>1</td>\n",
              "      <td>1</td>\n",
              "      <td>1</td>\n",
              "      <td>1</td>\n",
              "      <td>0</td>\n",
              "      <td>0</td>\n",
              "      <td>0</td>\n",
              "      <td>0</td>\n",
              "      <td>0</td>\n",
              "      <td>0</td>\n",
              "      <td>0</td>\n",
              "      <td>0</td>\n",
              "      <td>0</td>\n",
              "      <td>0</td>\n",
              "      <td>0</td>\n",
              "      <td>0</td>\n",
              "      <td>0</td>\n",
              "      <td>0</td>\n",
              "      <td>0</td>\n",
              "      <td>0</td>\n",
              "      <td>0</td>\n",
              "      <td>1</td>\n",
              "      <td>0</td>\n",
              "      <td>0</td>\n",
              "      <td>1</td>\n",
              "      <td>0</td>\n",
              "      <td>0</td>\n",
              "      <td>0</td>\n",
              "      <td>0</td>\n",
              "      <td>Good</td>\n",
              "    </tr>\n",
              "    <tr>\n",
              "      <th>2</th>\n",
              "      <td>3</td>\n",
              "      <td>24</td>\n",
              "      <td>19114.12</td>\n",
              "      <td>1824.843333</td>\n",
              "      <td>3</td>\n",
              "      <td>4</td>\n",
              "      <td>3</td>\n",
              "      <td>4</td>\n",
              "      <td>3</td>\n",
              "      <td>7.0</td>\n",
              "      <td>11.27</td>\n",
              "      <td>4.0</td>\n",
              "      <td>1.0</td>\n",
              "      <td>809.98</td>\n",
              "      <td>28.609352</td>\n",
              "      <td>0.0</td>\n",
              "      <td>49.574949</td>\n",
              "      <td>81.699521</td>\n",
              "      <td>331.209863</td>\n",
              "      <td>1</td>\n",
              "      <td>1</td>\n",
              "      <td>1</td>\n",
              "      <td>1</td>\n",
              "      <td>0</td>\n",
              "      <td>0</td>\n",
              "      <td>0</td>\n",
              "      <td>0</td>\n",
              "      <td>0</td>\n",
              "      <td>0</td>\n",
              "      <td>0</td>\n",
              "      <td>0</td>\n",
              "      <td>0</td>\n",
              "      <td>0</td>\n",
              "      <td>0</td>\n",
              "      <td>0</td>\n",
              "      <td>0</td>\n",
              "      <td>0</td>\n",
              "      <td>0</td>\n",
              "      <td>0</td>\n",
              "      <td>0</td>\n",
              "      <td>1</td>\n",
              "      <td>0</td>\n",
              "      <td>0</td>\n",
              "      <td>1</td>\n",
              "      <td>0</td>\n",
              "      <td>1</td>\n",
              "      <td>0</td>\n",
              "      <td>0</td>\n",
              "      <td>Good</td>\n",
              "    </tr>\n",
              "    <tr>\n",
              "      <th>3</th>\n",
              "      <td>4</td>\n",
              "      <td>24</td>\n",
              "      <td>19114.12</td>\n",
              "      <td>1824.843333</td>\n",
              "      <td>3</td>\n",
              "      <td>4</td>\n",
              "      <td>3</td>\n",
              "      <td>4</td>\n",
              "      <td>5</td>\n",
              "      <td>4.0</td>\n",
              "      <td>6.27</td>\n",
              "      <td>4.0</td>\n",
              "      <td>1.0</td>\n",
              "      <td>809.98</td>\n",
              "      <td>31.377862</td>\n",
              "      <td>0.0</td>\n",
              "      <td>49.574949</td>\n",
              "      <td>199.458074</td>\n",
              "      <td>223.451310</td>\n",
              "      <td>1</td>\n",
              "      <td>1</td>\n",
              "      <td>1</td>\n",
              "      <td>1</td>\n",
              "      <td>0</td>\n",
              "      <td>0</td>\n",
              "      <td>0</td>\n",
              "      <td>0</td>\n",
              "      <td>0</td>\n",
              "      <td>0</td>\n",
              "      <td>0</td>\n",
              "      <td>0</td>\n",
              "      <td>0</td>\n",
              "      <td>0</td>\n",
              "      <td>0</td>\n",
              "      <td>0</td>\n",
              "      <td>0</td>\n",
              "      <td>0</td>\n",
              "      <td>0</td>\n",
              "      <td>0</td>\n",
              "      <td>0</td>\n",
              "      <td>1</td>\n",
              "      <td>0</td>\n",
              "      <td>0</td>\n",
              "      <td>1</td>\n",
              "      <td>0</td>\n",
              "      <td>0</td>\n",
              "      <td>0</td>\n",
              "      <td>1</td>\n",
              "      <td>Good</td>\n",
              "    </tr>\n",
              "    <tr>\n",
              "      <th>4</th>\n",
              "      <td>5</td>\n",
              "      <td>24</td>\n",
              "      <td>19114.12</td>\n",
              "      <td>1824.843333</td>\n",
              "      <td>3</td>\n",
              "      <td>4</td>\n",
              "      <td>3</td>\n",
              "      <td>4</td>\n",
              "      <td>6</td>\n",
              "      <td>7.0</td>\n",
              "      <td>11.27</td>\n",
              "      <td>4.0</td>\n",
              "      <td>1.0</td>\n",
              "      <td>809.98</td>\n",
              "      <td>24.797347</td>\n",
              "      <td>0.0</td>\n",
              "      <td>49.574949</td>\n",
              "      <td>41.420153</td>\n",
              "      <td>341.489231</td>\n",
              "      <td>1</td>\n",
              "      <td>1</td>\n",
              "      <td>1</td>\n",
              "      <td>1</td>\n",
              "      <td>0</td>\n",
              "      <td>0</td>\n",
              "      <td>0</td>\n",
              "      <td>0</td>\n",
              "      <td>0</td>\n",
              "      <td>0</td>\n",
              "      <td>0</td>\n",
              "      <td>0</td>\n",
              "      <td>0</td>\n",
              "      <td>0</td>\n",
              "      <td>0</td>\n",
              "      <td>0</td>\n",
              "      <td>0</td>\n",
              "      <td>0</td>\n",
              "      <td>0</td>\n",
              "      <td>0</td>\n",
              "      <td>0</td>\n",
              "      <td>1</td>\n",
              "      <td>0</td>\n",
              "      <td>0</td>\n",
              "      <td>0</td>\n",
              "      <td>0</td>\n",
              "      <td>1</td>\n",
              "      <td>0</td>\n",
              "      <td>0</td>\n",
              "      <td>Good</td>\n",
              "    </tr>\n",
              "  </tbody>\n",
              "</table>\n",
              "</div>\n",
              "      <button class=\"colab-df-convert\" onclick=\"convertToInteractive('df-34e275a4-160a-4c25-a986-7b31b1c37704')\"\n",
              "              title=\"Convert this dataframe to an interactive table.\"\n",
              "              style=\"display:none;\">\n",
              "        \n",
              "  <svg xmlns=\"http://www.w3.org/2000/svg\" height=\"24px\"viewBox=\"0 0 24 24\"\n",
              "       width=\"24px\">\n",
              "    <path d=\"M0 0h24v24H0V0z\" fill=\"none\"/>\n",
              "    <path d=\"M18.56 5.44l.94 2.06.94-2.06 2.06-.94-2.06-.94-.94-2.06-.94 2.06-2.06.94zm-11 1L8.5 8.5l.94-2.06 2.06-.94-2.06-.94L8.5 2.5l-.94 2.06-2.06.94zm10 10l.94 2.06.94-2.06 2.06-.94-2.06-.94-.94-2.06-.94 2.06-2.06.94z\"/><path d=\"M17.41 7.96l-1.37-1.37c-.4-.4-.92-.59-1.43-.59-.52 0-1.04.2-1.43.59L10.3 9.45l-7.72 7.72c-.78.78-.78 2.05 0 2.83L4 21.41c.39.39.9.59 1.41.59.51 0 1.02-.2 1.41-.59l7.78-7.78 2.81-2.81c.8-.78.8-2.07 0-2.86zM5.41 20L4 18.59l7.72-7.72 1.47 1.35L5.41 20z\"/>\n",
              "  </svg>\n",
              "      </button>\n",
              "      \n",
              "  <style>\n",
              "    .colab-df-container {\n",
              "      display:flex;\n",
              "      flex-wrap:wrap;\n",
              "      gap: 12px;\n",
              "    }\n",
              "\n",
              "    .colab-df-convert {\n",
              "      background-color: #E8F0FE;\n",
              "      border: none;\n",
              "      border-radius: 50%;\n",
              "      cursor: pointer;\n",
              "      display: none;\n",
              "      fill: #1967D2;\n",
              "      height: 32px;\n",
              "      padding: 0 0 0 0;\n",
              "      width: 32px;\n",
              "    }\n",
              "\n",
              "    .colab-df-convert:hover {\n",
              "      background-color: #E2EBFA;\n",
              "      box-shadow: 0px 1px 2px rgba(60, 64, 67, 0.3), 0px 1px 3px 1px rgba(60, 64, 67, 0.15);\n",
              "      fill: #174EA6;\n",
              "    }\n",
              "\n",
              "    [theme=dark] .colab-df-convert {\n",
              "      background-color: #3B4455;\n",
              "      fill: #D2E3FC;\n",
              "    }\n",
              "\n",
              "    [theme=dark] .colab-df-convert:hover {\n",
              "      background-color: #434B5C;\n",
              "      box-shadow: 0px 1px 3px 1px rgba(0, 0, 0, 0.15);\n",
              "      filter: drop-shadow(0px 1px 2px rgba(0, 0, 0, 0.3));\n",
              "      fill: #FFFFFF;\n",
              "    }\n",
              "  </style>\n",
              "\n",
              "      <script>\n",
              "        const buttonEl =\n",
              "          document.querySelector('#df-34e275a4-160a-4c25-a986-7b31b1c37704 button.colab-df-convert');\n",
              "        buttonEl.style.display =\n",
              "          google.colab.kernel.accessAllowed ? 'block' : 'none';\n",
              "\n",
              "        async function convertToInteractive(key) {\n",
              "          const element = document.querySelector('#df-34e275a4-160a-4c25-a986-7b31b1c37704');\n",
              "          const dataTable =\n",
              "            await google.colab.kernel.invokeFunction('convertToInteractive',\n",
              "                                                     [key], {});\n",
              "          if (!dataTable) return;\n",
              "\n",
              "          const docLinkHtml = 'Like what you see? Visit the ' +\n",
              "            '<a target=\"_blank\" href=https://colab.research.google.com/notebooks/data_table.ipynb>data table notebook</a>'\n",
              "            + ' to learn more about interactive tables.';\n",
              "          element.innerHTML = '';\n",
              "          dataTable['output_type'] = 'display_data';\n",
              "          await google.colab.output.renderOutput(dataTable, element);\n",
              "          const docLink = document.createElement('div');\n",
              "          docLink.innerHTML = docLinkHtml;\n",
              "          element.appendChild(docLink);\n",
              "        }\n",
              "      </script>\n",
              "    </div>\n",
              "  </div>\n",
              "  "
            ]
          },
          "metadata": {},
          "execution_count": 32
        }
      ]
    },
    {
      "cell_type": "markdown",
      "source": [
        "## Get new training data and validation set"
      ],
      "metadata": {
        "id": "iLX3WoM9WLWM"
      }
    },
    {
      "cell_type": "markdown",
      "source": [
        "Since we don't know the respond value for the test data, we are going to use data from month 1-7 as a new training data and data from month 8 as a test data."
      ],
      "metadata": {
        "id": "KW4hxw49WPXU"
      }
    },
    {
      "cell_type": "code",
      "source": [
        "train_data['Credit_Score'] = Credit_Score"
      ],
      "metadata": {
        "id": "kiG5FFl-WO4v"
      },
      "execution_count": null,
      "outputs": []
    },
    {
      "cell_type": "code",
      "source": [
        "credit_score_dict = {'Good':1, 'Standard':0, 'Poor':-1}\n",
        "train_data['Credit_Score'] = train_data['Credit_Score'].map(credit_score_dict)"
      ],
      "metadata": {
        "id": "vHs5_TEPdPtW"
      },
      "execution_count": null,
      "outputs": []
    },
    {
      "cell_type": "code",
      "source": [
        "validation_set = train_data[train_data.Month == 8]\n",
        "validation_respond = validation_set['Credit_Score']\n",
        "new_train_set = train_data[train_data.Month != 8]\n",
        "train_y = new_train_set['Credit_Score']"
      ],
      "metadata": {
        "id": "OlpJWGzLdQ5z"
      },
      "execution_count": null,
      "outputs": []
    },
    {
      "cell_type": "code",
      "source": [
        "validation_set.to_csv('Validation_set.csv', index=False)\n",
        "new_train_set.to_csv('new_train_set.csv', index = False)"
      ],
      "metadata": {
        "id": "mkF4vzKUUGll"
      },
      "execution_count": null,
      "outputs": []
    },
    {
      "cell_type": "code",
      "source": [
        "validation_set.drop(columns=['Month', 'Credit_Score'], inplace=True)\n",
        "new_train_set.drop(columns=['Month', 'Credit_Score'], inplace=True)\n",
        "test_data.drop(columns = 'Month', inplace = True)"
      ],
      "metadata": {
        "id": "QLENSnkrTHcx"
      },
      "execution_count": null,
      "outputs": []
    },
    {
      "cell_type": "markdown",
      "source": [
        "# Model Fitting"
      ],
      "metadata": {
        "id": "xwGnTapoFPdU"
      }
    },
    {
      "cell_type": "markdown",
      "source": [
        "## Linear Regression\n",
        "\n",
        "One simple model that we tried was linear regression. The final credit score has values of \"Good\", \"Standard\" and \"Poor\", which can be relabeled as 1, 0, and -1. Similar to the netflix ratings prediciton problem, we can train a regression model here and see how it performs. To compare the results with the models that we train later, we convert our regression results into -1, 0 and 1 and calculate the accuracy on the validation set."
      ],
      "metadata": {
        "id": "yi1pmUIUUvVq"
      }
    },
    {
      "cell_type": "code",
      "source": [
        "model = LinearRegression()\n",
        "model.fit(new_train_set, train_y)\n",
        "\n",
        "y_pred = model.predict(validation_set)\n",
        "\n",
        "cutoff_list = [0.1,0.2,0.3,0.4,0.5,0.6,0.7,0.8,0.9]\n",
        "for cutoff in cutoff_list:\n",
        "  test = np.where(y_pred <= -cutoff, -1, np.where(y_pred >= cutoff, 1, 0))\n",
        "\n",
        "  total = len(validation_respond)\n",
        "  correct = sum(test == validation_respond)\n",
        "  acc = round(correct / total, 2)\n",
        "  print(\"cutoff:\", cutoff, \"accuracy:\", acc)"
      ],
      "metadata": {
        "colab": {
          "base_uri": "https://localhost:8080/"
        },
        "id": "AUMvGxCFU-wh",
        "outputId": "eb16bf2a-c6ff-411c-e2d6-ca5f4b13d652"
      },
      "execution_count": null,
      "outputs": [
        {
          "output_type": "stream",
          "name": "stdout",
          "text": [
            "cutoff: 0.1 accuracy: 0.49\n",
            "cutoff: 0.2 accuracy: 0.56\n",
            "cutoff: 0.3 accuracy: 0.59\n",
            "cutoff: 0.4 accuracy: 0.59\n",
            "cutoff: 0.5 accuracy: 0.58\n",
            "cutoff: 0.6 accuracy: 0.56\n",
            "cutoff: 0.7 accuracy: 0.55\n",
            "cutoff: 0.8 accuracy: 0.53\n",
            "cutoff: 0.9 accuracy: 0.53\n"
          ]
        }
      ]
    },
    {
      "cell_type": "markdown",
      "source": [
        "Regardless of what our cutoff is for determining the credit score, the highest accuracy we achieved using a linear regression model is under 60%. Out of the three different methods that we tried, this has the worst performance and we will not be using this as our final model."
      ],
      "metadata": {
        "id": "vPh2HjozXmSi"
      }
    },
    {
      "cell_type": "markdown",
      "source": [
        "## Decision Tree Classifier"
      ],
      "metadata": {
        "id": "VauguJQTo9fp"
      }
    },
    {
      "cell_type": "code",
      "source": [
        "# tune hyperparameters for decision tree\n",
        "depth_lst = [10, 20, 30, 40, 50, 60, 70, 80, 90, 100]\n",
        "train_score_lst = []\n",
        "test_score_lst = []\n",
        "for item in ['gini', 'entropy']:\n",
        "  train_lst = []\n",
        "  test_lst = []\n",
        "  for i in depth_lst:\n",
        "    treeclf = DecisionTreeClassifier(max_depth=i ,criterion=item,random_state=0)\n",
        "    scores=cross_val_score(estimator = treeclf,X=new_train_set,y =train_y,cv = 10)\n",
        "    # for validation set\n",
        "    treeclf.fit(new_train_set, train_y)\n",
        "    predict_y = treeclf.predict(validation_set)\n",
        "    test_lst.append(metrics.accuracy_score(validation_respond, predict_y))\n",
        "    #print(scores)\n",
        "    #print(np.mean(scores))\n",
        "    train_lst.append(np.mean(scores))\n",
        "  #plt.plot(depth_lst, item_lst)\n",
        "\n",
        "  train_score_lst.append(train_lst)\n",
        "  test_score_lst.append(test_lst)\n"
      ],
      "metadata": {
        "id": "EH32EYLKFR3i"
      },
      "execution_count": null,
      "outputs": []
    },
    {
      "cell_type": "code",
      "source": [
        "# plot our results\n",
        "plt.plot(depth_lst, train_score_lst[0], label = 'gini training')\n",
        "plt.plot(depth_lst, train_score_lst[1], label = 'entropy training')\n",
        "plt.plot(depth_lst, test_score_lst[0], label = 'gini test')\n",
        "plt.plot(depth_lst, test_score_lst[1], label = 'entropy test')\n",
        "\n",
        "#plt.plot(depth_lst, score_lst[2], label = 'log_loss')\n",
        "plt.title('Accuracy rate for different depth')\n",
        "plt.xlabel('Maximum Depth')\n",
        "plt.ylabel('Accuracy Rate')\n",
        "plt.legend()\n",
        "fig1 = plt.gcf()\n",
        "plt.show()\n",
        "fig1.savefig('DecisionTree1.png')"
      ],
      "metadata": {
        "colab": {
          "base_uri": "https://localhost:8080/",
          "height": 295
        },
        "id": "enOeQ98lZ6Ty",
        "outputId": "033694d1-d0cc-4063-9a62-2691ba38dbf8"
      },
      "execution_count": null,
      "outputs": [
        {
          "output_type": "display_data",
          "data": {
            "text/plain": [
              "<Figure size 432x288 with 1 Axes>"
            ],
            "image/png": "[encoded data removed]"
          },
          "metadata": {
            "needs_background": "light"
          }
        }
      ]
    },
    {
      "cell_type": "markdown",
      "source": [
        "We tried to select the best attribute to improve our model, the way we did it is combine the cross-validation\n",
        "and accuracy rate. We used 10-fold cross-validation and in each fold, we use accuracy as our score to\n",
        "compare them. The most important parameter for a decision tree is the maximum depth. The depth of\n",
        "the tree is the layer of the nodes, which means the root nodes have a depth of 0, the sub-node of the root\n",
        "nodes has a depth of 1, and so on. So we compare all the depths from 10 to 100 breaking by 10 to find out what is the best depth we should fit for our tree model. Also, we still have to compare two different\n",
        "measurements of each node, which are gini and entropy. From the figure above, we can find out how\n",
        "the training accuracy and how the test accuracy are doing as the depth increases for both measurements.\n",
        "For gini, we can see that the training error is decreasing as the depth is increasing. This is not normal,\n",
        "cause it usually should be in the opposite way. So maybe for our cases, our model is an under-fitting\n",
        "model. Then we just select the depth by selecting the higher test accuracy rate. And for entropy, we can\n",
        "use the same method to find the depth, which is 30. So, no matter which measurement, 30 may be the best depth for the tree. Then we find out that no matter the training or testing, the entropy will get\n",
        "higher accuracy than gini."
      ],
      "metadata": {
        "id": "sTQfFkpVm1Uk"
      }
    },
    {
      "cell_type": "code",
      "source": [
        "# pick our tree based on the tuning results\n",
        "treeclf = DecisionTreeClassifier(max_depth=40,criterion='entropy',random_state=0)\n",
        "#treeovr = OneVsRestClassifier(treeclf)\n",
        "\n",
        "treeclf.fit(new_train_set, train_y)"
      ],
      "metadata": {
        "colab": {
          "base_uri": "https://localhost:8080/"
        },
        "id": "4PnrIK54IExD",
        "outputId": "7cf6e445-3e9c-449a-9a44-376f23800c91"
      },
      "execution_count": null,
      "outputs": [
        {
          "output_type": "execute_result",
          "data": {
            "text/plain": [
              "DecisionTreeClassifier(criterion='entropy', max_depth=40, random_state=0)"
            ]
          },
          "metadata": {},
          "execution_count": 87
        }
      ]
    },
    {
      "cell_type": "code",
      "source": [
        "# save pic\n",
        "fig = plt.figure(figsize=(30,22), dpi=500)\n",
        "tree.plot_tree(treeclf)\n",
        "fig.savefig('imagename.png')"
      ],
      "metadata": {
        "id": "T98sIaztFXpc"
      },
      "execution_count": null,
      "outputs": []
    },
    {
      "cell_type": "code",
      "source": [
        "predict_y = treeclf.predict(validation_set)\n",
        "print(\"Accuracy:\",metrics.accuracy_score(validation_respond, predict_y))"
      ],
      "metadata": {
        "colab": {
          "base_uri": "https://localhost:8080/"
        },
        "id": "1-31nKyMKoVO",
        "outputId": "b4072ef9-d56f-4059-e349-461ee30e12aa"
      },
      "execution_count": null,
      "outputs": [
        {
          "output_type": "stream",
          "name": "stdout",
          "text": [
            "Accuracy: 0.68456\n"
          ]
        }
      ]
    },
    {
      "cell_type": "code",
      "source": [
        "print(treeclf.tree_.node_count)"
      ],
      "metadata": {
        "colab": {
          "base_uri": "https://localhost:8080/"
        },
        "id": "bte5hfLMXyc3",
        "outputId": "7bfa3d84-81f4-4a19-c778-e2870134d06f"
      },
      "execution_count": null,
      "outputs": [
        {
          "output_type": "stream",
          "name": "stdout",
          "text": [
            "29981\n"
          ]
        }
      ]
    },
    {
      "cell_type": "code",
      "source": [
        "# print our results\n",
        "\n",
        "confusion = confusion_matrix(validation_respond, predict_y)\n",
        "print('Confusion Matrix\\n')\n",
        "print(confusion)\n",
        "\n",
        "print('\\nAccuracy: {:.2f}\\n'.format(accuracy_score(validation_respond, predict_y)))\n",
        "\n",
        "print('Micro Precision: {:.2f}'.format(precision_score(validation_respond, predict_y, average='micro')))\n",
        "print('Micro Recall: {:.2f}'.format(recall_score(validation_respond, predict_y, average='micro')))\n",
        "print('Micro F1-score: {:.2f}\\n'.format(f1_score(validation_respond, predict_y, average='micro')))\n",
        "\n",
        "print('Macro Precision: {:.2f}'.format(precision_score(validation_respond, predict_y, average='macro')))\n",
        "print('Macro Recall: {:.2f}'.format(recall_score(validation_respond, predict_y, average='macro')))\n",
        "print('Macro F1-score: {:.2f}\\n'.format(f1_score(validation_respond, predict_y, average='macro')))\n",
        "\n",
        "print('Weighted Precision: {:.2f}'.format(precision_score(validation_respond, predict_y, average='weighted')))\n",
        "print('Weighted Recall: {:.2f}'.format(recall_score(validation_respond, predict_y, average='weighted')))\n",
        "print('Weighted F1-score: {:.2f}'.format(f1_score(validation_respond, predict_y, average='weighted')))\n",
        "\n",
        "\n",
        "print('\\nClassification Report\\n')\n",
        "print(classification_report(validation_respond, predict_y, target_names=['Class 1', 'Class 2', 'Class 3']))"
      ],
      "metadata": {
        "colab": {
          "base_uri": "https://localhost:8080/"
        },
        "id": "rFERryGMQSdB",
        "outputId": "740832f5-310b-4389-ed36-d2b7b14bdc28"
      },
      "execution_count": null,
      "outputs": [
        {
          "output_type": "stream",
          "name": "stdout",
          "text": [
            "Confusion Matrix\n",
            "\n",
            "[[1463  879   71]\n",
            " [ 767 4659 1059]\n",
            " [  56 1111 2435]]\n",
            "\n",
            "Accuracy: 0.68\n",
            "\n",
            "Micro Precision: 0.68\n",
            "Micro Recall: 0.68\n",
            "Micro F1-score: 0.68\n",
            "\n",
            "Macro Precision: 0.67\n",
            "Macro Recall: 0.67\n",
            "Macro F1-score: 0.67\n",
            "\n",
            "Weighted Precision: 0.68\n",
            "Weighted Recall: 0.68\n",
            "Weighted F1-score: 0.68\n",
            "\n",
            "Classification Report\n",
            "\n",
            "              precision    recall  f1-score   support\n",
            "\n",
            "     Class 1       0.64      0.61      0.62      2413\n",
            "     Class 2       0.70      0.72      0.71      6485\n",
            "     Class 3       0.68      0.68      0.68      3602\n",
            "\n",
            "    accuracy                           0.68     12500\n",
            "   macro avg       0.67      0.67      0.67     12500\n",
            "weighted avg       0.68      0.68      0.68     12500\n",
            "\n"
          ]
        }
      ]
    },
    {
      "cell_type": "code",
      "source": [
        "cm_df = pd.DataFrame(confusion,\n",
        "                     index = ['Good','Standard','Poor'], \n",
        "                     columns = ['Good','Standard','Poor'])"
      ],
      "metadata": {
        "id": "lyXHd5WDbO6B"
      },
      "execution_count": null,
      "outputs": []
    },
    {
      "cell_type": "code",
      "source": [
        "# plot confusion matrix\n",
        "plt.figure(figsize=(5,4))\n",
        "sns.heatmap(cm_df, annot = True,cmap='Blues', fmt='g')\n",
        "plt.title('Confusion Matrix')\n",
        "plt.ylabel('Actal Values')\n",
        "plt.xlabel('Predicted Values')\n",
        "fig1 = plt.gcf()\n",
        "plt.show()\n",
        "fig1.savefig('Confustionmatrix1.png')"
      ],
      "metadata": {
        "colab": {
          "base_uri": "https://localhost:8080/",
          "height": 295
        },
        "id": "I2kqTprKbY3v",
        "outputId": "1848710e-ba74-4c26-f9ce-db4c214ad409"
      },
      "execution_count": null,
      "outputs": [
        {
          "output_type": "display_data",
          "data": {
            "text/plain": [
              "<Figure size 360x288 with 2 Axes>"
            ],
            "image/png": "[encoded data removed]"
          },
          "metadata": {
            "needs_background": "light"
          }
        }
      ]
    },
    {
      "cell_type": "markdown",
      "source": [
        "Since our case is a multi-class problem, we can not analyze the matrix directly. We applied the one\n",
        "versus rest approach to see how was our model, let us look at good versus rest. For now, we only care\n",
        "about whether the credit score outcome is good or not, which means treating standard and poor as one\n",
        "class. So the true positive for good vs rest is 1463, the false negative is 879+71 = 950, the false positive\n",
        "is 767 + 56 = 823, and the true negative is 4659 + 1059 + 1111 + 2435 = 9264. Based on that, we also\n",
        "calculated the precision and recall for each class versus the rest. We can count that for all the other two\n",
        "cases. Also from the confusion matrix, we can see that the true positive for the standard class is the\n",
        "biggest."
      ],
      "metadata": {
        "id": "dN36kVFynSGt"
      }
    },
    {
      "cell_type": "markdown",
      "source": [
        "## Random Forest Classifier"
      ],
      "metadata": {
        "id": "5--OM_5ItiiT"
      }
    },
    {
      "cell_type": "code",
      "source": [
        "# 77\n",
        "n_estimator = [10, 20, 30, 40, 50, 60, 70, 80, 90, 100]\n",
        "criterion_list = ['gini', 'entropy']\n",
        "#randfclf = BaggingClassifier()\n",
        "train_score_lst = []\n",
        "test_score_lst = []\n",
        "for item in ['gini', 'entropy']:\n",
        "  train_lst = []\n",
        "  test_lst = []\n",
        "  for i in depth_lst:\n",
        "    treeclf = RandomForestClassifier(n_estimators = i, criterion = item)\n",
        "    scores=cross_val_score(estimator = treeclf,X=new_train_set,y =train_y,cv = 10)\n",
        "    # for validation set\n",
        "    treeclf.fit(new_train_set, train_y)\n",
        "    predict_y = treeclf.predict(validation_set)\n",
        "    test_lst.append(metrics.accuracy_score(validation_respond, predict_y))\n",
        "    print(scores)\n",
        "    print(np.mean(scores))\n",
        "    train_lst.append(np.mean(scores))\n",
        "  #plt.plot(depth_lst, item_lst)\n",
        "\n",
        "train_score_lst.append(train_lst)\n",
        "test_score_lst.append(test_lst)"
      ],
      "metadata": {
        "id": "Im4b14QztnbV"
      },
      "execution_count": null,
      "outputs": []
    },
    {
      "cell_type": "code",
      "source": [
        "# plot our results and save fig\n",
        "\n",
        "plt.plot(depth_lst, train_score_lst[0], label = 'entropy training')\n",
        "#plt.plot(depth_lst, train_score_lst[1], label = 'entropy training')\n",
        "plt.plot(depth_lst, test_score_lst[0], label = 'entropy test')\n",
        "#plt.plot(depth_lst, test_score_lst[1], label = 'entropy test')\n",
        "\n",
        "#plt.plot(depth_lst, score_lst[2], label = 'log_loss')\n",
        "plt.title('Accuracy rate for different depth')\n",
        "plt.xlabel('Maximum Depth')\n",
        "plt.ylabel('Accuracy Rate')\n",
        "plt.legend()\n",
        "fig1 = plt.gcf()\n",
        "plt.show()\n",
        "fig1.savefig('randomforest1.png')"
      ],
      "metadata": {
        "colab": {
          "base_uri": "https://localhost:8080/",
          "height": 295
        },
        "id": "xS7aEwgIVD-O",
        "outputId": "e00e4909-e3b1-4709-869f-71fcdbd79401"
      },
      "execution_count": null,
      "outputs": [
        {
          "output_type": "display_data",
          "data": {
            "text/plain": [
              "<Figure size 432x288 with 1 Axes>"
            ],
            "image/png": "[encoded data removed]"
          },
          "metadata": {
            "needs_background": "light"
          }
        }
      ]
    },
    {
      "cell_type": "markdown",
      "source": [
        "From the figure above, we can see that test accuracy is like a u shape and training accuracy will also\n",
        "increase. This is normal, cause once the test accuracy begins to decrease that means our model is over\n",
        "fitting. So we select 60 to be the best number of trees we need for the random forest model. Then we\n",
        "can have our test accuracy rate of 0.7376."
      ],
      "metadata": {
        "id": "4eeOLy-Vnd_W"
      }
    },
    {
      "cell_type": "code",
      "source": [
        "# choose random forest based on tuning\n",
        "treeclf = RandomForestClassifier(n_estimators = 60, criterion = 'entropy')\n",
        "treeclf.fit(new_train_set, train_y)"
      ],
      "metadata": {
        "id": "w6nzbTbrWe2z"
      },
      "execution_count": null,
      "outputs": []
    },
    {
      "cell_type": "code",
      "source": [
        "fig = plt.figure(figsize=(30,22), dpi=500)\n",
        "tree.plot_tree(treeclf[0])\n",
        "fig.savefig('imagename1.png')"
      ],
      "metadata": {
        "id": "ge6rfqA3tcKr"
      },
      "execution_count": null,
      "outputs": []
    },
    {
      "cell_type": "code",
      "source": [
        "predict_y = treeclf.predict(validation_set)\n",
        "print(\"Accuracy:\",metrics.accuracy_score(validation_respond, predict_y))"
      ],
      "metadata": {
        "colab": {
          "base_uri": "https://localhost:8080/"
        },
        "id": "EAy9wVuvW49t",
        "outputId": "7994dd02-6e6d-4b0d-99d7-58649b120043"
      },
      "execution_count": null,
      "outputs": [
        {
          "output_type": "stream",
          "name": "stdout",
          "text": [
            "Accuracy: 0.7376\n"
          ]
        }
      ]
    },
    {
      "cell_type": "code",
      "source": [
        "confusion = confusion_matrix(validation_respond, predict_y)\n",
        "print('Confusion Matrix\\n')\n",
        "print(confusion)\n",
        "\n",
        "print('\\nAccuracy: {:.2f}\\n'.format(accuracy_score(validation_respond, predict_y)))\n",
        "\n",
        "print('Micro Precision: {:.2f}'.format(precision_score(validation_respond, predict_y, average='micro')))\n",
        "print('Micro Recall: {:.2f}'.format(recall_score(validation_respond, predict_y, average='micro')))\n",
        "print('Micro F1-score: {:.2f}\\n'.format(f1_score(validation_respond, predict_y, average='micro')))\n",
        "\n",
        "print('Macro Precision: {:.2f}'.format(precision_score(validation_respond, predict_y, average='macro')))\n",
        "print('Macro Recall: {:.2f}'.format(recall_score(validation_respond, predict_y, average='macro')))\n",
        "print('Macro F1-score: {:.2f}\\n'.format(f1_score(validation_respond, predict_y, average='macro')))\n",
        "\n",
        "print('Weighted Precision: {:.2f}'.format(precision_score(validation_respond, predict_y, average='weighted')))\n",
        "print('Weighted Recall: {:.2f}'.format(recall_score(validation_respond, predict_y, average='weighted')))\n",
        "print('Weighted F1-score: {:.2f}'.format(f1_score(validation_respond, predict_y, average='weighted')))\n",
        "\n",
        "\n",
        "print('\\nClassification Report\\n')\n",
        "print(classification_report(validation_respond, predict_y, target_names=['Class 1', 'Class 2', 'Class 3']))"
      ],
      "metadata": {
        "colab": {
          "base_uri": "https://localhost:8080/"
        },
        "id": "kVZXU_5LWvXl",
        "outputId": "0fec5685-cbd1-4248-fdc1-1ce965be2d66"
      },
      "execution_count": null,
      "outputs": [
        {
          "output_type": "stream",
          "name": "stdout",
          "text": [
            "Confusion Matrix\n",
            "\n",
            "[[1569  838    6]\n",
            " [ 588 4911  986]\n",
            " [  20  821 2761]]\n",
            "\n",
            "Accuracy: 0.74\n",
            "\n",
            "Micro Precision: 0.74\n",
            "Micro Recall: 0.74\n",
            "Micro F1-score: 0.74\n",
            "\n",
            "Macro Precision: 0.73\n",
            "Macro Recall: 0.72\n",
            "Macro F1-score: 0.73\n",
            "\n",
            "Weighted Precision: 0.74\n",
            "Weighted Recall: 0.74\n",
            "Weighted F1-score: 0.74\n",
            "\n",
            "Classification Report\n",
            "\n",
            "              precision    recall  f1-score   support\n",
            "\n",
            "     Class 1       0.72      0.65      0.68      2413\n",
            "     Class 2       0.75      0.76      0.75      6485\n",
            "     Class 3       0.74      0.77      0.75      3602\n",
            "\n",
            "    accuracy                           0.74     12500\n",
            "   macro avg       0.73      0.72      0.73     12500\n",
            "weighted avg       0.74      0.74      0.74     12500\n",
            "\n"
          ]
        }
      ]
    },
    {
      "cell_type": "code",
      "source": [
        "cm_df = pd.DataFrame(confusion,\n",
        "                     index = ['Good','Standard','Poor'], \n",
        "                     columns = ['Good','Standard','Poor'])"
      ],
      "metadata": {
        "id": "cFAFt40Mj_Er"
      },
      "execution_count": null,
      "outputs": []
    },
    {
      "cell_type": "code",
      "source": [
        "plt.figure(figsize=(5,4))\n",
        "sns.heatmap(cm_df, annot = True,cmap='Blues', fmt='g')\n",
        "plt.title('Confusion Matrix')\n",
        "plt.ylabel('Actal Values')\n",
        "plt.xlabel('Predicted Values')\n",
        "fig1 = plt.gcf()\n",
        "plt.show()\n",
        "fig1.savefig('Confustionmatrix2.png')"
      ],
      "metadata": {
        "colab": {
          "base_uri": "https://localhost:8080/",
          "height": 295
        },
        "id": "IYclokRykABi",
        "outputId": "2b2e25b2-8c84-4277-fe76-7f92bc8361d8"
      },
      "execution_count": null,
      "outputs": [
        {
          "output_type": "display_data",
          "data": {
            "text/plain": [
              "<Figure size 360x288 with 2 Axes>"
            ],
            "image/png": "[encoded data removed]"
          },
          "metadata": {
            "needs_background": "light"
          }
        }
      ]
    },
    {
      "cell_type": "markdown",
      "source": [
        "We can use the same strategy to can see the precision and recall for each class. "
      ],
      "metadata": {
        "id": "15GxbybonkoU"
      }
    },
    {
      "cell_type": "markdown",
      "source": [
        "# Limitation and Conclusion"
      ],
      "metadata": {
        "id": "rt_JV5kDZIRX"
      }
    },
    {
      "cell_type": "markdown",
      "source": [
        "So based on the information in the table above, and the accuracy rate of our validation set, we selected the random forest as our final model to predict on the real test data.\n",
        "For now, the performance of our best model is still not that good. So we thought there are some\n",
        "limitations to our model. \n",
        "\n",
        "1.   No matter a new training data or the validation set, their month are all between January and August. But for the final prediction data, the actual accuracy\n",
        "rate might be a little bit lower around 0.7. Because all the prediction data are from month September\n",
        "to December.  \n",
        "\n",
        "2.   In our data, there is so many repeated observation from one customer with all the other information being the same. So it might cause some overfitted problems.\n"
      ],
      "metadata": {
        "id": "Zk8nDcG6oWJ3"
      }
    },
    {
      "cell_type": "markdown",
      "source": [
        "# Prediction on the real test data"
      ],
      "metadata": {
        "id": "vGeW-2P-sVqk"
      }
    },
    {
      "cell_type": "code",
      "source": [
        "treeclf = RandomForestClassifier(n_estimators = 60, criterion = 'entropy')\n",
        "treeclf.fit(train_data, Credit_Score)\n",
        "pred = treeclf.predict(test_data)"
      ],
      "metadata": {
        "id": "Ac7fG20AsZJc"
      },
      "execution_count": null,
      "outputs": []
    }
  ]
}